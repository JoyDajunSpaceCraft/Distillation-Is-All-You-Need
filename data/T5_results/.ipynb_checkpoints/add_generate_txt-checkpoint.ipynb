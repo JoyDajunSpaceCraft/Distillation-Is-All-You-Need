{
 "cells": [
  {
   "cell_type": "code",
   "execution_count": null,
   "id": "489f487d-386f-4b2c-9bc3-6b9182cb6b08",
   "metadata": {},
   "outputs": [],
   "source": [
    "new_file = \"GPT3.5_generated_reasons.txt\"\n",
    "old_file  = \"/home/yuj49/DIAYN/data/GPT3.5/msmarco_test.jsonl\"\n",
    "store_file = \"msmarco_test_t5.jsonl\"\n",
    "import json\n",
    "with open(new_file, \"r\")as f1, open(old_file,\"r\")as f2, open(store_file, \"w\") as f3:\n",
    "    new_reason = []\n",
    "    new_item = []\n",
    "    for i in f1.readlines():\n",
    "        new_reason.append(i)\n",
    "\n",
    "    data_indx= 0\n",
    "    for item in f2.readlines():\n",
    "        data = json.loads(item)\n",
    "        data[\"t5_reason\"] = new_reason[data_indx]\n",
    "        json.dump(data, f3)\n",
    "        f3.write('\\n')\n",
    "        data_indx+=1"
   ]
  },
  {
   "cell_type": "code",
   "execution_count": 2,
   "id": "fb8b2130-e69e-42bd-a79b-922f97872d3d",
   "metadata": {},
   "outputs": [],
   "source": [
    "new_file = \"GPT3.5_generated_reasons_touche.txt\"\n",
    "old_file  = \"/data_vault/pittnail/yuj49/DIAYN/data/touche/touche.jsonl\"\n",
    "store_file = \"touche_test_t5.jsonl\"\n",
    "import json\n",
    "with open(new_file, \"r\")as f1, open(old_file,\"r\")as f2, open(store_file, \"w\") as f3:\n",
    "    new_reason = []\n",
    "    new_item = []\n",
    "    for i in f1.readlines():\n",
    "        new_reason.append(i)\n",
    "\n",
    "    data_indx= 0\n",
    "    for item in f2.readlines():\n",
    "        data = json.loads(item)\n",
    "        data[\"t5_reason\"] = new_reason[data_indx]\n",
    "        json.dump(data, f3)\n",
    "        f3.write('\\n')\n",
    "        data_indx+=1"
   ]
  },
  {
   "cell_type": "code",
   "execution_count": 2,
   "id": "cef07c02-47ae-4780-a953-1959f94f73f8",
   "metadata": {},
   "outputs": [
    {
     "name": "stdout",
     "output_type": "stream",
     "text": [
      "/data_vault/pittnail/yuj49/DIAYN/data/T5_results\n"
     ]
    }
   ],
   "source": [
    "!pwd"
   ]
  },
  {
   "cell_type": "code",
   "execution_count": null,
   "id": "57dac3af-a0fe-4aed-b6a0-27ac07aa6357",
   "metadata": {},
   "outputs": [],
   "source": [
    "DIAYN/data/nfcorpus/nf_val.jsonl\n"
   ]
  }
 ],
 "metadata": {
  "kernelspec": {
   "display_name": "Python 3 (ipykernel)",
   "language": "python",
   "name": "python3"
  },
  "language_info": {
   "codemirror_mode": {
    "name": "ipython",
    "version": 3
   },
   "file_extension": ".py",
   "mimetype": "text/x-python",
   "name": "python",
   "nbconvert_exporter": "python",
   "pygments_lexer": "ipython3",
   "version": "3.8.8"
  }
 },
 "nbformat": 4,
 "nbformat_minor": 5
}
