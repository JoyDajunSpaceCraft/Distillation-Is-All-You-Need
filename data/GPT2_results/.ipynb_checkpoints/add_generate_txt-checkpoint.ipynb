{
 "cells": [
  {
   "cell_type": "code",
   "execution_count": null,
   "id": "cec2e3a7-2563-41f5-b4c9-585810a8a202",
   "metadata": {},
   "outputs": [],
   "source": [
    "new_file = \"GPT3.5_generated_reasons.txt\"\n",
    "old_file  = \"/home/yuj49/DIAYN/data/GPT3.5/msmarco_test.jsonl\"\n",
    "store_file = \"msmarco_test_gpt2.jsonl\"\n",
    "import json\n",
    "with open(new_file, \"r\")as f1, open(old_file,\"r\")as f2, open(store_file, \"w\") as f3:\n",
    "    new_reason = []\n",
    "    new_item = []\n",
    "    for i in f1.readlines():\n",
    "        new_reason.append(i)\n",
    "\n",
    "    data_indx= 0\n",
    "    for item in f2.readlines():\n",
    "        data = json.loads(item)\n",
    "        data[\"gpt2_reason\"] = new_reason[data_indx]\n",
    "        json.dump(data, f3)\n",
    "        f3.write('\\n')\n",
    "        data_indx+=1"
   ]
  },
  {
   "cell_type": "code",
   "execution_count": 1,
   "id": "aff12054-e0d1-4d23-811e-6be49bafa884",
   "metadata": {},
   "outputs": [
    {
     "name": "stdout",
     "output_type": "stream",
     "text": [
      "/data_vault/pittnail/yuj49/DIAYN/data/GPT2_results\n"
     ]
    }
   ],
   "source": [
    "!pwd"
   ]
  },
  {
   "cell_type": "code",
   "execution_count": 3,
   "id": "52a001e0-abbd-4fad-bed9-1df8ab7be42e",
   "metadata": {},
   "outputs": [],
   "source": [
    "new_file = \"GPT3.5_generated_reasons_nfc.txt\"\n",
    "old_file  = \"/data_vault/pittnail/yuj49/DIAYN/data/nfcorpus/nf_val.jsonl\"\n",
    "store_file = \"nfc_test_gpt2.jsonl\"\n",
    "import json\n",
    "with open(new_file, \"r\")as f1, open(old_file,\"r\")as f2, open(store_file, \"w\") as f3:\n",
    "    new_reason = []\n",
    "    new_item = []\n",
    "    for i in f1.readlines():\n",
    "        new_reason.append(i)\n",
    "\n",
    "    data_indx= 0\n",
    "    for item in f2.readlines():\n",
    "        data = json.loads(item)\n",
    "        data[\"gpt2_reason\"] = new_reason[data_indx]\n",
    "        json.dump(data, f3)\n",
    "        f3.write('\\n')\n",
    "        data_indx+=1"
   ]
  },
  {
   "cell_type": "code",
   "execution_count": null,
   "id": "678a143f-c96d-4629-9e53-d515ffb52243",
   "metadata": {},
   "outputs": [],
   "source": []
  }
 ],
 "metadata": {
  "kernelspec": {
   "display_name": "Python 3 (ipykernel)",
   "language": "python",
   "name": "python3"
  },
  "language_info": {
   "codemirror_mode": {
    "name": "ipython",
    "version": 3
   },
   "file_extension": ".py",
   "mimetype": "text/x-python",
   "name": "python",
   "nbconvert_exporter": "python",
   "pygments_lexer": "ipython3",
   "version": "3.8.8"
  }
 },
 "nbformat": 4,
 "nbformat_minor": 5
}
